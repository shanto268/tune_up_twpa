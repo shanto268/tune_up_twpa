{
 "cells": [
  {
   "cell_type": "markdown",
   "id": "fbdfa7d3",
   "metadata": {},
   "source": [
    "# Development Notebook:"
   ]
  },
  {
   "cell_type": "markdown",
   "id": "3663f0b3",
   "metadata": {},
   "source": [
    "## Get Device IDs Dynamically"
   ]
  },
  {
   "cell_type": "code",
   "execution_count": 23,
   "id": "5c5376ca",
   "metadata": {},
   "outputs": [],
   "source": [
    "lfile = \"/Users/shanto/Google Drive/Shared drives/Labber/Data/2023/02/Data_0202/TWPA_Tune_Up_NBR26.hdf5\""
   ]
  },
  {
   "cell_type": "code",
   "execution_count": 22,
   "id": "7ae0050a",
   "metadata": {},
   "outputs": [],
   "source": [
    "lfile2 = \"/Users/shanto/Google Drive/Shared drives/Labber/Data/2023/02/Data_0208/JPA_pumppower_flux_SA_NBR26.hdf5\""
   ]
  },
  {
   "cell_type": "code",
   "execution_count": 28,
   "id": "e1fc3e2a",
   "metadata": {},
   "outputs": [],
   "source": [
    "lf = Labber.LogFile(lfile2)"
   ]
  },
  {
   "cell_type": "code",
   "execution_count": 29,
   "id": "268ad37b",
   "metadata": {},
   "outputs": [
    {
     "data": {
      "text/plain": [
       "'HP Spectrum Analyzer - Signal'"
      ]
     },
     "execution_count": 29,
     "metadata": {},
     "output_type": "execute_result"
    }
   ],
   "source": [
    "lf.getLogChannels()[0][\"name\"]"
   ]
  },
  {
   "cell_type": "code",
   "execution_count": 30,
   "id": "dd25a853",
   "metadata": {},
   "outputs": [
    {
     "data": {
      "text/plain": [
       "'10002F25 - Power'"
      ]
     },
     "execution_count": 30,
     "metadata": {},
     "output_type": "execute_result"
    }
   ],
   "source": [
    "lf.getStepChannels()[1][\"name\"]"
   ]
  },
  {
   "cell_type": "code",
   "execution_count": 31,
   "id": "5a111443",
   "metadata": {},
   "outputs": [
    {
     "data": {
      "text/plain": [
       "[{'name': 'Counter - Value 1',\n",
       "  'unit': '',\n",
       "  'values': array([1., 2., 3.]),\n",
       "  'complex': False,\n",
       "  'vector': False},\n",
       " {'name': '10002F25 - Power',\n",
       "  'unit': 'dBm',\n",
       "  'values': array([14.  , 14.25, 14.5 , 14.75, 15.  , 15.25, 15.5 , 15.75, 16.  ,\n",
       "         16.25, 16.5 , 16.75, 17.  , 17.25, 17.5 , 17.75, 18.  ]),\n",
       "  'complex': False,\n",
       "  'vector': False},\n",
       " {'name': 'Vikram - Source current',\n",
       "  'unit': 'A',\n",
       "  'values': array([-0.0004 , -0.00041, -0.00042, -0.00043, -0.00044, -0.00045,\n",
       "         -0.00046, -0.00047, -0.00048, -0.00049, -0.0005 , -0.00051,\n",
       "         -0.00052, -0.00053, -0.00054, -0.00055]),\n",
       "  'complex': False,\n",
       "  'vector': False}]"
      ]
     },
     "execution_count": 31,
     "metadata": {},
     "output_type": "execute_result"
    }
   ],
   "source": [
    "lf.getStepChannels()"
   ]
  },
  {
   "cell_type": "markdown",
   "id": "401c8996",
   "metadata": {},
   "source": [
    "## Create Gain Profile Plot"
   ]
  },
  {
   "cell_type": "markdown",
   "id": "83e09108",
   "metadata": {},
   "source": [
    "## Create SNR Improvement Plot"
   ]
  },
  {
   "cell_type": "markdown",
   "id": "30eea7ab",
   "metadata": {
    "heading_collapsed": true
   },
   "source": [
    "## SNR Region Extraction:"
   ]
  },
  {
   "cell_type": "code",
   "execution_count": 1,
   "id": "298834e4",
   "metadata": {
    "ExecuteTime": {
     "end_time": "2022-10-09T22:59:34.147515Z",
     "start_time": "2022-10-09T22:59:32.288289Z"
    },
    "hidden": true
   },
   "outputs": [
    {
     "name": "stderr",
     "output_type": "stream",
     "text": [
      "/Users/shanto/anaconda3/envs/lfl_qp/lib/python3.9/site-packages/qtpy/__init__.py:214: RuntimeWarning: Selected binding \"pyqt5\" could not be found, using \"pyqt6\"\n",
      "  warnings.warn('Selected binding \"{}\" could not be found, '\n"
     ]
    }
   ],
   "source": [
    "import Labber\n",
    "import os\n",
    "import sys\n",
    "from fitTools.utilities import Watt2dBm, dBm2Watt, VNA2dBm\n",
    "\n",
    "from twpa_tune_up_helper_functions import *"
   ]
  },
  {
   "cell_type": "code",
   "execution_count": null,
   "id": "e7b45259",
   "metadata": {
    "ExecuteTime": {
     "end_time": "2022-10-09T23:01:15.936681Z",
     "start_time": "2022-10-09T22:59:34.861044Z"
    },
    "hidden": true
   },
   "outputs": [],
   "source": [
    "labber_data_file = str(input(\"Labber File Location: \"))\n",
    "repeated = int(input(\"Number of Repeations: \"))\n",
    "power_range = int(input(\"Number of Points for Power: \"))\n",
    "freq_range = int(input(\"Number of Points for Frequency: \"))\n",
    "\n",
    "std_highSNR = 1.15 # cut off point for determining high SNR\n",
    "cutOff_around_SA_peak = 10e3 # Hz\n",
    "\n",
    "lf = Labber.LogFile(labber_data_file)\n",
    "\n",
    "power_channel_name = \"10002F25 - Power\"\n",
    "freq_channel_name = \"10002F25 - Frequency\"\n",
    "SA_channel_name = 'HP Spectrum Analyzer - Signal'\n",
    "\n",
    "pump_power = lf.getData(name = power_channel_name)\n",
    "pump_freq = lf.getData(name = freq_channel_name)\n",
    "\n",
    "signal = lf.getData(name = SA_channel_name)\n",
    "linsig = dBm2Watt(signal)\n",
    "\n",
    "SAxdata, SAydata = lf.getTraceXY(y_channel=SA_channel_name) # gives last trace from SA\n",
    "\n",
    "plt.rcParams['savefig.facecolor']='white'\n",
    "\n",
    "get_SNR_space_plot(signal,repeated, freq_range, power_range, pump_freq,\n",
    "                   pump_power, SAxdata, cutOff=cutOff_around_SA_peak,\n",
    "                   title=\"TWPA Tune Up\", xlabel='Pump Power (dBm)', \n",
    "                   ylabel='Pump Frequency (Hz)', zlabel='SNR', \n",
    "                   fig_type=\".png\", path=\"figures\")\n",
    "\n",
    "\n"
   ]
  },
  {
   "cell_type": "code",
   "execution_count": null,
   "id": "098c2d58",
   "metadata": {
    "ExecuteTime": {
     "end_time": "2022-10-09T23:51:40.920839Z",
     "start_time": "2022-10-09T23:51:40.899818Z"
    },
    "code_folding": [
     15
    ],
    "hidden": true
   },
   "outputs": [],
   "source": [
    "def get_high_SNR_regions(signal,repeated, freq_range, power_range,pump_freq, pump_power, SAxdata, cutOff=10e3, std_highSNR=1.75):\n",
    "    average_signal = get_average_of_N_traces(signal,repeated)\n",
    "    average_lin_signal = dBm2Watt(average_signal)\n",
    "\n",
    "    pump_freqs = np.linspace(pump_freq[0][0],pump_freq[-1][-1],freq_range)\n",
    "    pump_powers = np.linspace(pump_power[0][0],pump_power[-1][-1],power_range)\n",
    "\n",
    "    SNRs, max_signals, noise_floors = calculate_SNRs(average_lin_signal,SAxdata,cutOff)\n",
    "    SNRs_reshaped = np.reshape(SNRs, (freq_range,power_range))\n",
    "\n",
    "    meanSNR = np.mean(SNRs_reshaped)\n",
    "    region = get_config_for_high_SNR(SNRs_reshaped,x=pump_powers, y=pump_freqs,std_dev=std_highSNR)\n",
    "    std_message = f\"Region of High SNR\\n[i.e SNR > mean(SNR) * std_dev(SNR)]\\nmean(SNR) = {meanSNR:.3f}, std_dev(SNR) = {std_highSNR:.2f}\"\n",
    "    create_heatmap(region, pump_powers, pump_freqs, title = std_message, xlabel='Pump Power (dBm)', ylabel='Pump Frequency (Hz)', zlabel='SNR',)\n",
    "    print_coordinates(get_coordinates(pump_powers, pump_freqs,region))\n",
    "    return get_coordinates(pump_powers, pump_freqs,region)\n",
    "\n",
    "def get_config_for_high_SNR(arr,x,y,std_dev=2):\n",
    "    mean = np.mean(arr)\n",
    "    standard_deviation = np.std(arr)\n",
    "    distance_from_mean = abs(arr - mean)\n",
    "    min_deviations = std_dev\n",
    "    high_values = mean + min_deviations * standard_deviation\n",
    "\n",
    "    arr[arr < high_values] = np.nan\n",
    "    return arr\n",
    "\n",
    "\n",
    "def get_coordinates(x,y,z):\n",
    "    mask = np.isfinite(z)\n",
    "    xx,yy = np.array(np.meshgrid(x, y))\n",
    "    masked_x = mask*xx\n",
    "    masked_y = mask*yy\n",
    "    x = masked_x[masked_x>0]\n",
    "    y = masked_y[masked_y>0]\n",
    "    z = z[np.isfinite(z)]\n",
    "    return np.array((x,y,z)).T\n",
    "\n",
    "def print_coordinates(arr):\n",
    "    for i in range(arr.shape[0]):\n",
    "        print(f\"SNR = {arr[i][2]:.3f} for Power = {arr[i][1]}and Frequency = {arr[i][0]}\")"
   ]
  },
  {
   "cell_type": "code",
   "execution_count": null,
   "id": "f96b4be3",
   "metadata": {
    "ExecuteTime": {
     "end_time": "2022-10-09T23:51:41.524072Z",
     "start_time": "2022-10-09T23:51:41.311595Z"
    },
    "hidden": true
   },
   "outputs": [],
   "source": [
    "region= get_high_SNR_regions(signal,repeated, freq_range, power_range, pump_freq,\n",
    "                         pump_power, SAxdata, cutOff=cutOff_around_SA_peak,\n",
    "                         std_highSNR=2)"
   ]
  },
  {
   "cell_type": "code",
   "execution_count": null,
   "id": "6c0491e8",
   "metadata": {
    "ExecuteTime": {
     "end_time": "2022-10-09T23:50:28.833940Z",
     "start_time": "2022-10-09T23:50:28.822543Z"
    },
    "hidden": true
   },
   "outputs": [],
   "source": [
    "region.shape[0]"
   ]
  },
  {
   "cell_type": "code",
   "execution_count": null,
   "id": "9e564437",
   "metadata": {
    "hidden": true
   },
   "outputs": [],
   "source": []
  },
  {
   "cell_type": "markdown",
   "id": "4263050a",
   "metadata": {
    "heading_collapsed": true
   },
   "source": [
    "## SNR Methods"
   ]
  },
  {
   "cell_type": "code",
   "execution_count": null,
   "id": "65e7fcd0",
   "metadata": {
    "hidden": true
   },
   "outputs": [],
   "source": [
    "import Labber\n",
    "import os\n",
    "import sys\n",
    "from fitTools.utilities import Watt2dBm, dBm2Watt, VNA2dBm\n",
    "\n",
    "from twpa_tune_up_helper_functions import *\n"
   ]
  },
  {
   "cell_type": "code",
   "execution_count": null,
   "id": "25762b14",
   "metadata": {
    "hidden": true
   },
   "outputs": [],
   "source": [
    "def calculate_mean_SNR_from_Labber_file(labber_data_file5, cutOff = 10e3):\n",
    "    \"\"\"\n",
    "    \"\"\"\n",
    "    lf = Labber.LogFile(labber_data_file)\n",
    "    SA_channel_name = 'HP Spectrum Analyzer - Signal'\n",
    "\n",
    "\n",
    "    signal = lf.getData(name = SA_channel_name)\n",
    "    linsig = dBm2Watt(signal)\n",
    "\n",
    "    SAxdata, SAydata = lf.getTraceXY(y_channel=SA_channel_name, entry=0) # gives last trace from SA\n",
    "    \n",
    "    snrs = 0\n",
    "    for i in range(len(signal)):\n",
    "        snrs += get_signal_stats(dBm2Watt(signal[i]), SAxdata, cutOff)[0]\n",
    "\n",
    "    snr_mean = snrs / len(signal)\n",
    "    return snr_mean"
   ]
  },
  {
   "cell_type": "markdown",
   "id": "c8db5a26",
   "metadata": {
    "hidden": true
   },
   "source": [
    "**Testing SNR Code:**"
   ]
  },
  {
   "cell_type": "code",
   "execution_count": null,
   "id": "2109c1f8",
   "metadata": {
    "hidden": true
   },
   "outputs": [],
   "source": [
    "calculate_mean_SNR_from_Labber_file"
   ]
  }
 ],
 "metadata": {
  "hide_input": false,
  "kernelspec": {
   "display_name": "Python 3 (ipykernel)",
   "language": "python",
   "name": "python3"
  },
  "language_info": {
   "codemirror_mode": {
    "name": "ipython",
    "version": 3
   },
   "file_extension": ".py",
   "mimetype": "text/x-python",
   "name": "python",
   "nbconvert_exporter": "python",
   "pygments_lexer": "ipython3",
   "version": "3.9.12"
  },
  "latex_envs": {
   "LaTeX_envs_menu_present": true,
   "autoclose": false,
   "autocomplete": true,
   "bibliofile": "biblio.bib",
   "cite_by": "apalike",
   "current_citInitial": 1,
   "eqLabelWithNumbers": true,
   "eqNumInitial": 1,
   "hotkeys": {
    "equation": "Ctrl-E",
    "itemize": "Ctrl-I"
   },
   "labels_anchors": false,
   "latex_user_defs": false,
   "report_style_numbering": false,
   "user_envs_cfg": false
  },
  "toc": {
   "base_numbering": 1,
   "nav_menu": {},
   "number_sections": true,
   "sideBar": true,
   "skip_h1_title": false,
   "title_cell": "Table of Contents",
   "title_sidebar": "Contents",
   "toc_cell": false,
   "toc_position": {},
   "toc_section_display": true,
   "toc_window_display": false
  },
  "varInspector": {
   "cols": {
    "lenName": 16,
    "lenType": 16,
    "lenVar": 40
   },
   "kernels_config": {
    "python": {
     "delete_cmd_postfix": "",
     "delete_cmd_prefix": "del ",
     "library": "var_list.py",
     "varRefreshCmd": "print(var_dic_list())"
    },
    "r": {
     "delete_cmd_postfix": ") ",
     "delete_cmd_prefix": "rm(",
     "library": "var_list.r",
     "varRefreshCmd": "cat(var_dic_list()) "
    }
   },
   "types_to_exclude": [
    "module",
    "function",
    "builtin_function_or_method",
    "instance",
    "_Feature"
   ],
   "window_display": false
  }
 },
 "nbformat": 4,
 "nbformat_minor": 5
}
