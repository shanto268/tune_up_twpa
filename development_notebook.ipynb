{
 "cells": [
  {
   "cell_type": "markdown",
   "id": "e0ad6775",
   "metadata": {},
   "source": [
    "**Testing SNR Code:**"
   ]
  },
  {
   "cell_type": "code",
   "execution_count": 1,
   "id": "e708e889",
   "metadata": {
    "ExecuteTime": {
     "end_time": "2022-09-22T20:13:59.098535Z",
     "start_time": "2022-09-22T20:13:57.471033Z"
    }
   },
   "outputs": [
    {
     "name": "stderr",
     "output_type": "stream",
     "text": [
      "/Users/shanto/miniforge3/envs/lfl_qp/lib/python3.9/site-packages/qtpy/__init__.py:214: RuntimeWarning: Selected binding \"pyqt5\" could not be found, using \"pyside6\"\n",
      "  warnings.warn('Selected binding \"{}\" could not be found, '\n"
     ]
    }
   ],
   "source": [
    "import Labber\n",
    "import os\n",
    "import sys\n",
    "from fitTools.utilities import Watt2dBm, dBm2Watt, VNA2dBm\n",
    "\n",
    "from twpa_tune_up_helper_functions import *\n"
   ]
  },
  {
   "cell_type": "code",
   "execution_count": 2,
   "id": "18fe8fbd",
   "metadata": {
    "ExecuteTime": {
     "end_time": "2022-09-22T20:14:43.768128Z",
     "start_time": "2022-09-22T20:14:43.757278Z"
    }
   },
   "outputs": [],
   "source": [
    "labber_data_file = \"data/TWPA_Tune_Up_91923.hdf5\""
   ]
  },
  {
   "cell_type": "code",
   "execution_count": 14,
   "id": "2564ca40",
   "metadata": {
    "ExecuteTime": {
     "end_time": "2022-09-22T20:19:13.573131Z",
     "start_time": "2022-09-22T20:19:13.437216Z"
    }
   },
   "outputs": [],
   "source": [
    "std_highSNR = 1.75 # cut off point\n",
    "std_SNR = 2.5 # for noise floor\n",
    "\n",
    "lf = Labber.LogFile(labber_data_file)\n",
    "\n",
    "power_channel_name = \"10002F25 - Power\"\n",
    "freq_channel_name = \"10002F25 - Frequency\"\n",
    "SA_channel_name = 'HP Spectrum Analyzer - Signal'\n",
    "\n",
    "pump_power = lf.getData(name = power_channel_name)\n",
    "pump_freq = lf.getData(name = freq_channel_name)  \n",
    "\n",
    "signal = lf.getData(name = SA_channel_name)\n",
    "linsig = dBm2Watt(signal)\n",
    "\n",
    "SAxdata, SAydata = lf.getTraceXY(y_channel=SA_channel_name, entry=0) # gives last trace from SA"
   ]
  },
  {
   "cell_type": "code",
   "execution_count": 16,
   "id": "d061e730",
   "metadata": {
    "ExecuteTime": {
     "end_time": "2022-09-22T20:19:19.438448Z",
     "start_time": "2022-09-22T20:19:19.421326Z"
    },
    "cell_style": "split"
   },
   "outputs": [
    {
     "data": {
      "text/plain": [
       "array([0., 0., 0., 0., 0., 0., 0., 0., 0., 0., 0., 0., 0., 0., 0., 0., 0.,\n",
       "       0., 0., 0., 0., 0., 0., 0., 0., 0., 0., 0., 0., 0., 0., 0., 0., 0.,\n",
       "       0., 0., 0., 0., 0., 0., 0., 0., 0., 0., 0., 0., 0., 0., 0., 0., 0.,\n",
       "       0., 0., 0., 0., 0., 0., 0., 0., 0., 0., 0., 0., 0., 0., 0., 0., 0.,\n",
       "       0., 0., 0., 0., 0., 0., 0., 0., 0., 0., 0., 0., 0., 0., 0., 0., 0.,\n",
       "       0., 0., 0., 0., 0., 0., 0., 0., 0., 0., 0., 0., 0., 0., 0., 0., 0.,\n",
       "       0., 0., 0., 0., 0., 0., 0., 0., 0., 0., 0., 0., 0., 0., 0., 0., 0.,\n",
       "       0., 0., 0., 0., 0., 0., 0., 0., 0., 0., 0., 0., 0., 0., 0., 0., 0.,\n",
       "       0., 0., 0., 0., 0., 0., 0., 0., 0., 0., 0., 0., 0., 0., 0., 0., 0.,\n",
       "       0., 0., 0., 0., 0., 0., 0., 0., 0., 0., 0., 0., 0., 0., 0., 0., 0.,\n",
       "       0., 0., 0., 0., 0., 0., 0., 0., 0., 0., 0., 0., 0., 0., 0., 0., 0.,\n",
       "       0., 0., 0., 0., 0., 0., 0., 0., 0., 0., 0., 0., 0., 0., 0., 0., 0.,\n",
       "       0., 0., 0., 0., 0., 0., 0., 0., 0., 0., 0., 0., 0., 0., 0., 0., 0.,\n",
       "       0., 0., 0., 0., 0., 0., 0., 0., 0., 0., 0., 0., 0., 0., 0., 0., 0.,\n",
       "       0., 0., 0., 0., 0., 0., 0., 0., 0., 0., 0., 0., 0., 0., 0., 0., 0.,\n",
       "       0., 0., 0., 0., 0., 0., 0., 0., 0., 0., 0., 0., 0., 0., 0., 0., 0.,\n",
       "       0., 0., 0., 0., 0., 0., 0., 0., 0., 0., 0., 0., 0., 0., 0., 0., 0.,\n",
       "       0., 0., 0., 0., 0., 0., 0., 0., 0., 0., 0., 0., 0., 0., 0., 0., 0.,\n",
       "       0., 0., 0., 0., 0., 0., 0., 0., 0., 0., 0., 0., 0., 0., 0., 0., 0.,\n",
       "       0., 0., 0., 0., 0., 0., 0., 0., 0., 0., 0., 0., 0., 0., 0., 0., 0.,\n",
       "       0., 0., 0., 0., 0., 0., 0., 0., 0., 0., 0., 0., 0., 0., 0., 0., 0.,\n",
       "       0., 0., 0., 0., 0., 0., 0., 0., 0., 0., 0., 0., 0., 0., 0., 0., 0.,\n",
       "       0., 0., 0., 0., 0., 0., 0., 0., 0., 0., 0., 0., 0., 0., 0., 0., 0.,\n",
       "       0., 0., 0., 0., 0., 0., 0., 0., 0., 0.])"
      ]
     },
     "execution_count": 16,
     "metadata": {},
     "output_type": "execute_result"
    }
   ],
   "source": [
    "signal[0] - SAydata"
   ]
  },
  {
   "cell_type": "code",
   "execution_count": 32,
   "id": "fefe7359",
   "metadata": {
    "ExecuteTime": {
     "end_time": "2022-09-22T20:28:28.137057Z",
     "start_time": "2022-09-22T20:28:28.049582Z"
    },
    "cell_style": "split"
   },
   "outputs": [
    {
     "data": {
      "image/png": "[encoded data removed]",
      "text/plain": [
       "<Figure size 432x288 with 1 Axes>"
      ]
     },
     "metadata": {
      "needs_background": "light"
     },
     "output_type": "display_data"
    }
   ],
   "source": [
    "plt.plot(SAxdata,dBm2Watt(signal[0]))\n",
    "plt.show()"
   ]
  },
  {
   "cell_type": "code",
   "execution_count": 52,
   "id": "2a325f32",
   "metadata": {
    "ExecuteTime": {
     "end_time": "2022-09-22T20:32:30.979443Z",
     "start_time": "2022-09-22T20:32:30.969545Z"
    }
   },
   "outputs": [],
   "source": [
    "snrs, max_signal, noise_floor = get_signal_stats(dBm2Watt(signal[0]),std_dev=3)"
   ]
  },
  {
   "cell_type": "code",
   "execution_count": 53,
   "id": "ea80bba6",
   "metadata": {
    "ExecuteTime": {
     "end_time": "2022-09-22T20:32:31.320190Z",
     "start_time": "2022-09-22T20:32:31.308858Z"
    }
   },
   "outputs": [
    {
     "data": {
      "text/plain": [
       "(11.112233007481358, -54.71, -65.82223300748136)"
      ]
     },
     "execution_count": 53,
     "metadata": {},
     "output_type": "execute_result"
    }
   ],
   "source": [
    "snrs, max_signal, noise_floor"
   ]
  },
  {
   "cell_type": "code",
   "execution_count": 55,
   "id": "30504e62",
   "metadata": {
    "ExecuteTime": {
     "end_time": "2022-09-22T20:34:30.039357Z",
     "start_time": "2022-09-22T20:34:30.025592Z"
    }
   },
   "outputs": [],
   "source": [
    "def get_SNR_james(signal, SAxdata, cutOff=10e3):\n",
    "    max_ind = np.argmax(signal)\n",
    "    max_val = np.max(signal)\n",
    "    mask = np.logical_or(SAxdata < SAxdata[max_ind]-cutOff, SAxdata > SAxdata[max_ind]+cutOff)\n",
    "    noisetemp = signal[mask]\n",
    "    noise_floor = np.mean(noisetemp)\n",
    "    snr = Watt2dBm(max_val) - Watt2dBm(noise_floor)\n",
    "    noise_floor = Watt2dBm(noise_floor)\n",
    "    max_signal = Watt2dBm(max_val)\n",
    "    return [snr, max_signal, noise_floor]\n"
   ]
  },
  {
   "cell_type": "code",
   "execution_count": 56,
   "id": "03fa47df",
   "metadata": {
    "ExecuteTime": {
     "end_time": "2022-09-22T20:34:30.385339Z",
     "start_time": "2022-09-22T20:34:30.365642Z"
    }
   },
   "outputs": [
    {
     "name": "stdout",
     "output_type": "stream",
     "text": [
      "12.87779341263721 -54.71 -67.58779341263721\n"
     ]
    }
   ],
   "source": [
    "get_SNR_james(dBm2Watt(signal[0]),SAxdata)"
   ]
  },
  {
   "cell_type": "code",
   "execution_count": 29,
   "id": "a94e426d",
   "metadata": {
    "ExecuteTime": {
     "end_time": "2022-09-22T20:27:40.086323Z",
     "start_time": "2022-09-22T20:27:39.993497Z"
    }
   },
   "outputs": [
    {
     "data": {
      "text/plain": [
       "[<matplotlib.lines.Line2D at 0x29fae7cd0>]"
      ]
     },
     "execution_count": 29,
     "metadata": {},
     "output_type": "execute_result"
    },
    {
     "data": {
      "image/png": "[encoded data removed]",
      "text/plain": [
       "<Figure size 432x288 with 1 Axes>"
      ]
     },
     "metadata": {
      "needs_background": "light"
     },
     "output_type": "display_data"
    }
   ],
   "source": []
  },
  {
   "cell_type": "code",
   "execution_count": null,
   "id": "b48ee4d1",
   "metadata": {},
   "outputs": [],
   "source": []
  }
 ],
 "metadata": {
  "hide_input": false,
  "kernelspec": {
   "display_name": "Python 3 (ipykernel)",
   "language": "python",
   "name": "python3"
  },
  "language_info": {
   "codemirror_mode": {
    "name": "ipython",
    "version": 3
   },
   "file_extension": ".py",
   "mimetype": "text/x-python",
   "name": "python",
   "nbconvert_exporter": "python",
   "pygments_lexer": "ipython3",
   "version": "3.9.12"
  },
  "latex_envs": {
   "LaTeX_envs_menu_present": true,
   "autoclose": false,
   "autocomplete": true,
   "bibliofile": "biblio.bib",
   "cite_by": "apalike",
   "current_citInitial": 1,
   "eqLabelWithNumbers": true,
   "eqNumInitial": 1,
   "hotkeys": {
    "equation": "Ctrl-E",
    "itemize": "Ctrl-I"
   },
   "labels_anchors": false,
   "latex_user_defs": false,
   "report_style_numbering": false,
   "user_envs_cfg": false
  },
  "toc": {
   "base_numbering": 1,
   "nav_menu": {},
   "number_sections": true,
   "sideBar": true,
   "skip_h1_title": false,
   "title_cell": "Table of Contents",
   "title_sidebar": "Contents",
   "toc_cell": false,
   "toc_position": {},
   "toc_section_display": true,
   "toc_window_display": false
  },
  "varInspector": {
   "cols": {
    "lenName": 16,
    "lenType": 16,
    "lenVar": 40
   },
   "kernels_config": {
    "python": {
     "delete_cmd_postfix": "",
     "delete_cmd_prefix": "del ",
     "library": "var_list.py",
     "varRefreshCmd": "print(var_dic_list())"
    },
    "r": {
     "delete_cmd_postfix": ") ",
     "delete_cmd_prefix": "rm(",
     "library": "var_list.r",
     "varRefreshCmd": "cat(var_dic_list()) "
    }
   },
   "types_to_exclude": [
    "module",
    "function",
    "builtin_function_or_method",
    "instance",
    "_Feature"
   ],
   "window_display": false
  }
 },
 "nbformat": 4,
 "nbformat_minor": 5
}
