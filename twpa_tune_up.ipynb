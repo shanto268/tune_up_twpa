{
 "cells": [
  {
   "attachments": {},
   "cell_type": "markdown",
   "id": "7d801be0",
   "metadata": {},
   "source": [
    "# Tuning Up TWPA:\n",
    "\n",
    "---\n",
    "\n",
    "## To Do:\n",
    "\n",
    "- config from data file\n",
    "- line plots from heatmap\n",
    "- 2D peak finder\n",
    "    - high SNR\n",
    "    - clustered high\n",
    "- automated script\n",
    "\n",
    "\n",
    "## Idea:\n",
    "\n",
    "\n",
    "1. Method to average the 2D color plots \n",
    "    a. Store the averaged plots\n",
    "2. Method to calculate SNR from Signal\n",
    "3. For each pump frequency:\n",
    "    For each point on averaged plots:\n",
    "        a. calculate SNR\n",
    "        b. extract regions of stable high SNR\n",
    "4. Create 3D plot with color = SNR, and <x = pump freq., y = pump power, z  = SNR>\n",
    "5. Extract points (x,y,z) with stable high SNR!\n",
    "\n",
    "## For Scripting:\n",
    "\n",
    "- [SNR Code](#snr)\n",
    "- [Averaging and High SNR Space Finder](#averaging-and-high-snr-region)\n"
   ]
  },
  {
   "cell_type": "code",
   "execution_count": null,
   "id": "6e7347e2",
   "metadata": {
    "ExecuteTime": {
     "end_time": "2022-09-22T00:21:48.631015Z",
     "start_time": "2022-09-22T00:21:48.624796Z"
    }
   },
   "outputs": [],
   "source": [
    "import Labber\n",
    "import numpy as np\n",
    "import matplotlib.pyplot as plt\n",
    "import os\n",
    "from mpl_toolkits.mplot3d import Axes3D\n",
    "from matplotlib import cm\n",
    "import matplotlib\n",
    "\n",
    "from datetime import datetime\n",
    "from scipy.signal import find_peaks, peak_prominences, peak_widths\n",
    "from fitTools.utilities import Watt2dBm, dBm2Watt, VNA2dBm"
   ]
  },
  {
   "cell_type": "markdown",
   "id": "4d8e9526",
   "metadata": {},
   "source": [
    "# Data File Structure "
   ]
  },
  {
   "cell_type": "code",
   "execution_count": null,
   "id": "8ae8c95d",
   "metadata": {
    "ExecuteTime": {
     "end_time": "2022-09-21T16:35:58.765636Z",
     "start_time": "2022-09-21T16:35:58.728083Z"
    }
   },
   "outputs": [],
   "source": [
    "TWPA0919 = \"data/TWPA_Tune_Up_91923.hdf5\"\n",
    "lf = Labber.LogFile(TWPA0919)\n",
    "\n",
    "SA_channel_name = 'HP Spectrum Analyzer - Signal'\n",
    "signal = lf.getData(name = SA_channel_name)"
   ]
  },
  {
   "cell_type": "code",
   "execution_count": null,
   "id": "7af171e6",
   "metadata": {
    "ExecuteTime": {
     "end_time": "2022-09-21T16:35:59.524710Z",
     "start_time": "2022-09-21T16:35:59.423447Z"
    }
   },
   "outputs": [],
   "source": [
    "signal"
   ]
  },
  {
   "cell_type": "code",
   "execution_count": null,
   "id": "725636bd",
   "metadata": {
    "ExecuteTime": {
     "end_time": "2022-09-21T16:35:59.905822Z",
     "start_time": "2022-09-21T16:35:59.893808Z"
    }
   },
   "outputs": [],
   "source": [
    "signal.shape"
   ]
  },
  {
   "cell_type": "code",
   "execution_count": null,
   "id": "c999a091",
   "metadata": {
    "ExecuteTime": {
     "end_time": "2022-09-21T16:36:00.374313Z",
     "start_time": "2022-09-21T16:36:00.332107Z"
    }
   },
   "outputs": [],
   "source": [
    "linsig = dBm2Watt(signal)\n",
    "linsig.shape"
   ]
  },
  {
   "cell_type": "code",
   "execution_count": null,
   "id": "f2aea3f1",
   "metadata": {
    "ExecuteTime": {
     "end_time": "2022-09-21T16:36:00.752283Z",
     "start_time": "2022-09-21T16:36:00.714237Z"
    }
   },
   "outputs": [],
   "source": [
    "SAxdata, SAydata = lf.getTraceXY(y_channel=channel_name) # gives last trace from SA"
   ]
  },
  {
   "cell_type": "code",
   "execution_count": null,
   "id": "fa70d2ec",
   "metadata": {
    "ExecuteTime": {
     "end_time": "2022-09-21T16:36:01.153834Z",
     "start_time": "2022-09-21T16:36:01.148169Z"
    }
   },
   "outputs": [],
   "source": [
    "#plt.style.use('science')"
   ]
  },
  {
   "cell_type": "code",
   "execution_count": null,
   "id": "53690dbe",
   "metadata": {
    "ExecuteTime": {
     "end_time": "2022-09-21T16:36:01.734112Z",
     "start_time": "2022-09-21T16:36:01.649118Z"
    },
    "cell_style": "split"
   },
   "outputs": [],
   "source": [
    "plt.plot(SAxdata, signal[0])\n",
    "plt.ylabel(\"SA Signal (dBm)\")\n",
    "plt.xlabel(\"Frequency (GHz)\")"
   ]
  },
  {
   "cell_type": "code",
   "execution_count": null,
   "id": "c695778f",
   "metadata": {
    "ExecuteTime": {
     "end_time": "2022-09-21T16:36:02.081417Z",
     "start_time": "2022-09-21T16:36:02.010778Z"
    },
    "cell_style": "split"
   },
   "outputs": [],
   "source": [
    "plt.plot(SAxdata, linsig[0])\n",
    "plt.ylabel(\"SA Signal (W)\")\n",
    "plt.xlabel(\"Frequency (GHz)\")"
   ]
  },
  {
   "cell_type": "markdown",
   "id": "f7ac36c8",
   "metadata": {},
   "source": [
    "# Calculating SNR"
   ]
  },
  {
   "cell_type": "markdown",
   "id": "6dc9405e",
   "metadata": {},
   "source": [
    "### Finding Peaks"
   ]
  },
  {
   "cell_type": "code",
   "execution_count": null,
   "id": "c08103b0",
   "metadata": {
    "ExecuteTime": {
     "end_time": "2022-09-21T16:55:48.096226Z",
     "start_time": "2022-09-21T16:55:48.012575Z"
    },
    "cell_style": "split"
   },
   "outputs": [],
   "source": [
    "peaks, peak_prop = find_peaks(linsig[0])\n",
    "plt.plot(linsig[0])\n",
    "plt.plot(peaks, linsig[0][peaks], \"x\")\n",
    "plt.plot(np.zeros_like(linsig[0]), \"--\", color=\"gray\")\n",
    "plt.show()"
   ]
  },
  {
   "cell_type": "code",
   "execution_count": null,
   "id": "40ba340f",
   "metadata": {
    "ExecuteTime": {
     "end_time": "2022-09-21T17:08:53.451380Z",
     "start_time": "2022-09-21T17:08:53.349792Z"
    },
    "cell_style": "split"
   },
   "outputs": [],
   "source": [
    "all_data = linsig[0][peaks]\n",
    "\n",
    "plt.hist(all_data,bins=50)\n",
    "plt.show()"
   ]
  },
  {
   "cell_type": "code",
   "execution_count": null,
   "id": "94bbed59",
   "metadata": {
    "ExecuteTime": {
     "end_time": "2022-09-21T17:08:16.349124Z",
     "start_time": "2022-09-21T17:08:16.338822Z"
    }
   },
   "outputs": [],
   "source": [
    "def outliers_removed(arr, std_dev=2):\n",
    "    mean = np.mean(arr)\n",
    "    standard_deviation = np.std(arr)\n",
    "    distance_from_mean = abs(arr - mean)\n",
    "    max_deviations = std_dev\n",
    "    not_outlier = distance_from_mean < max_deviations * standard_deviation\n",
    "    no_outliers = arr[not_outlier]\n",
    "    return no_outliers"
   ]
  },
  {
   "cell_type": "code",
   "execution_count": null,
   "id": "23009e4f",
   "metadata": {
    "ExecuteTime": {
     "end_time": "2022-09-21T17:09:12.333694Z",
     "start_time": "2022-09-21T17:09:12.323147Z"
    },
    "cell_style": "split"
   },
   "outputs": [],
   "source": [
    "noise_data = outliers_removed(linsig[0][peaks])\n",
    "noise_data.mean()"
   ]
  },
  {
   "cell_type": "code",
   "execution_count": null,
   "id": "8dd2a165",
   "metadata": {
    "ExecuteTime": {
     "end_time": "2022-09-21T17:11:45.781232Z",
     "start_time": "2022-09-21T17:11:45.767248Z"
    },
    "cell_style": "split"
   },
   "outputs": [],
   "source": [
    "max(all_data)"
   ]
  },
  {
   "cell_type": "code",
   "execution_count": null,
   "id": "35c33525",
   "metadata": {
    "ExecuteTime": {
     "end_time": "2022-09-21T17:09:51.706887Z",
     "start_time": "2022-09-21T17:09:51.632261Z"
    },
    "cell_style": "split"
   },
   "outputs": [],
   "source": [
    "plt.hist(noise_data,histtype=\"step\")\n",
    "plt.show()"
   ]
  },
  {
   "cell_type": "code",
   "execution_count": null,
   "id": "489108a7",
   "metadata": {
    "ExecuteTime": {
     "end_time": "2022-09-21T17:10:58.138030Z",
     "start_time": "2022-09-21T17:10:58.125219Z"
    },
    "cell_style": "center"
   },
   "outputs": [],
   "source": [
    "snr = Watt2dBm(max(all_data)) - Watt2dBm(noise_data.mean())\n",
    "snr"
   ]
  },
  {
   "cell_type": "markdown",
   "id": "fe944145",
   "metadata": {},
   "source": [
    "<a id='snr'></a>\n",
    "\n",
    "### SNR Code"
   ]
  },
  {
   "cell_type": "code",
   "execution_count": null,
   "id": "4212f291",
   "metadata": {
    "ExecuteTime": {
     "end_time": "2022-09-21T17:18:39.532313Z",
     "start_time": "2022-09-21T17:18:39.515553Z"
    }
   },
   "outputs": [],
   "source": [
    "def outliers_removed(arr, std_dev=2):\n",
    "    mean = np.mean(arr)\n",
    "    standard_deviation = np.std(arr)\n",
    "    distance_from_mean = abs(arr - mean)\n",
    "    max_deviations = std_dev\n",
    "    not_outlier = distance_from_mean < max_deviations * standard_deviation\n",
    "    no_outliers = arr[not_outlier]\n",
    "    return no_outliers\n",
    "\n",
    "def get_signal_stats(linsig,std_dev=2):\n",
    "    \"\"\"\n",
    "    inputs: (linsig:: array (SA Signal in Watts), std_dev:: int (cut off for outlier)\n",
    "    returns: [float, float, float] :: [snr, signal_max, average_noise_floor] (all in dBm)\n",
    "    \"\"\"\n",
    "    peaks, peak_prop = find_peaks(linsig)\n",
    "    all_data = linsig[peaks]\n",
    "    noise_data = outliers_removed(linsig[peaks],std_dev)\n",
    "    noise_floor = Watt2dBm(noise_data.mean())\n",
    "    max_signal = Watt2dBm(max(all_data))\n",
    "    snr = max_signal - noise_floor\n",
    "    return [snr, max_signal, noise_floor]\n",
    "    "
   ]
  },
  {
   "cell_type": "code",
   "execution_count": null,
   "id": "0db75c2d",
   "metadata": {
    "ExecuteTime": {
     "end_time": "2022-09-21T17:19:04.155046Z",
     "start_time": "2022-09-21T17:19:04.143834Z"
    }
   },
   "outputs": [],
   "source": [
    "get_signal_stats(linsig[0])"
   ]
  },
  {
   "attachments": {},
   "cell_type": "markdown",
   "id": "53c29454",
   "metadata": {},
   "source": [
    "# Combining Various Traces at Same Configurations \n",
    "\n",
    "For the data file we are dealing with we have used the following external parameters.\n",
    "\n",
    "```\n",
    "repeated = 4 # per config\n",
    "power_range = 10\n",
    "freq_range = 76\n",
    "```\n",
    "\n",
    "This explains the data structure of the signal `(3040, 401) = (4*10*76, 401)`. `401` is the fidelity of the Spectrum Analyzer and stays constant in between measurements and the breakdown `4*10*76` is how we took our measurements.\n",
    "\n",
    "\n",
    "![measurement](measurement.png)\n",
    "\n",
    "From looking at the LogBrowser. It is obvious how the config works.\n",
    "\n",
    "![traces](traces.png)\n",
    "\n",
    "Logic of Trace is as follows:\n",
    "\n",
    "```python\n",
    "\n",
    "for freq in range(freq_range):\n",
    "    for power in range(power_range):\n",
    "        for repeat in range(repeated): \n",
    "\n",
    "```\n",
    "\n",
    "**LOOPS IN MEASUREMENT WINDOW GO FROM INNER MOST TO OUTERMOST IN ORDER**"
   ]
  },
  {
   "cell_type": "code",
   "execution_count": null,
   "id": "e4e13890",
   "metadata": {
    "ExecuteTime": {
     "end_time": "2022-09-22T00:38:03.818463Z",
     "start_time": "2022-09-22T00:38:03.802470Z"
    },
    "cell_style": "center"
   },
   "outputs": [],
   "source": []
  },
  {
   "cell_type": "code",
   "execution_count": null,
   "id": "827d9001",
   "metadata": {
    "ExecuteTime": {
     "end_time": "2022-09-21T18:55:16.948128Z",
     "start_time": "2022-09-21T18:55:16.923652Z"
    },
    "cell_style": "center"
   },
   "outputs": [],
   "source": [
    "repeated = 4\n",
    "power_range = 10\n",
    "freq_range = 76\n",
    "freq_range * power_range * repeated\n",
    "\n",
    "power_channel_name = \"10002F25 - Power\"\n",
    "freq_channel_name = \"10002F25 - Frequency\"\n",
    "\n",
    "pump_power = lf.getData(name = power_channel_name)\n",
    "pump_freq = lf.getData(name = freq_channel_name)"
   ]
  },
  {
   "cell_type": "code",
   "execution_count": null,
   "id": "12903396",
   "metadata": {
    "ExecuteTime": {
     "end_time": "2022-09-21T17:36:30.234674Z",
     "start_time": "2022-09-21T17:36:30.218530Z"
    },
    "cell_style": "split"
   },
   "outputs": [],
   "source": [
    "pump_power.shape"
   ]
  },
  {
   "cell_type": "code",
   "execution_count": null,
   "id": "fa2bdd7d",
   "metadata": {
    "ExecuteTime": {
     "end_time": "2022-09-21T17:36:30.572628Z",
     "start_time": "2022-09-21T17:36:30.562351Z"
    },
    "cell_style": "split"
   },
   "outputs": [],
   "source": [
    "pump_freq.shape"
   ]
  },
  {
   "cell_type": "code",
   "execution_count": null,
   "id": "3a7ed2de",
   "metadata": {
    "ExecuteTime": {
     "end_time": "2022-09-21T21:21:40.566222Z",
     "start_time": "2022-09-21T21:21:40.557219Z"
    },
    "cell_style": "split"
   },
   "outputs": [],
   "source": [
    "pump_power"
   ]
  },
  {
   "cell_type": "code",
   "execution_count": null,
   "id": "096324e9",
   "metadata": {
    "ExecuteTime": {
     "end_time": "2022-09-21T17:37:41.264613Z",
     "start_time": "2022-09-21T17:37:41.250674Z"
    },
    "cell_style": "split"
   },
   "outputs": [],
   "source": [
    "pump_freq"
   ]
  },
  {
   "cell_type": "code",
   "execution_count": null,
   "id": "07a23fa2",
   "metadata": {
    "ExecuteTime": {
     "end_time": "2022-09-21T17:38:23.002834Z",
     "start_time": "2022-09-21T17:38:22.991567Z"
    },
    "cell_style": "split"
   },
   "outputs": [],
   "source": [
    "signal.shape"
   ]
  },
  {
   "cell_type": "code",
   "execution_count": null,
   "id": "18bc35c9",
   "metadata": {
    "ExecuteTime": {
     "end_time": "2022-09-21T17:38:29.782409Z",
     "start_time": "2022-09-21T17:38:29.770517Z"
    },
    "cell_style": "split"
   },
   "outputs": [],
   "source": [
    "signal"
   ]
  },
  {
   "cell_type": "markdown",
   "id": "6a4a3345",
   "metadata": {
    "ExecuteTime": {
     "end_time": "2022-09-21T18:21:59.993799Z",
     "start_time": "2022-09-21T18:21:59.974380Z"
    }
   },
   "source": [
    "General formula for taking the average of $r$ rows for a 2D array $a$ with $c$ columns:\n",
    "\n",
    "`a.transpose().reshape(-1,r).mean(1).reshape(c,-1).transpose()`"
   ]
  },
  {
   "cell_type": "code",
   "execution_count": null,
   "id": "7d9a8b15",
   "metadata": {
    "ExecuteTime": {
     "end_time": "2022-09-21T18:25:13.736987Z",
     "start_time": "2022-09-21T18:25:13.714137Z"
    }
   },
   "outputs": [],
   "source": [
    "average_signal = signal.transpose().reshape(-1,repeated).mean(1).reshape(signal.shape[-1],-1).transpose()"
   ]
  },
  {
   "cell_type": "code",
   "execution_count": null,
   "id": "7ec022c2",
   "metadata": {
    "ExecuteTime": {
     "end_time": "2022-09-21T18:25:18.911913Z",
     "start_time": "2022-09-21T18:25:18.896746Z"
    }
   },
   "outputs": [],
   "source": [
    "average_signal.shape"
   ]
  },
  {
   "cell_type": "code",
   "execution_count": null,
   "id": "0a655506",
   "metadata": {},
   "outputs": [],
   "source": [
    "np.reshape(average_signal, ()) "
   ]
  },
  {
   "cell_type": "code",
   "execution_count": null,
   "id": "a111851d",
   "metadata": {
    "ExecuteTime": {
     "end_time": "2022-09-21T19:03:44.903541Z",
     "start_time": "2022-09-21T19:03:44.884641Z"
    }
   },
   "outputs": [],
   "source": [
    "average_lin_signal = dBm2Watt(average_signal)"
   ]
  },
  {
   "cell_type": "code",
   "execution_count": null,
   "id": "0973c4cb",
   "metadata": {
    "ExecuteTime": {
     "end_time": "2022-09-21T20:20:39.094805Z",
     "start_time": "2022-09-21T20:20:39.082784Z"
    }
   },
   "outputs": [],
   "source": [
    "pump_freqs = np.linspace(pump_freq[0][0],pump_freq[-1][-1],freq_range)\n",
    "pump_freqs"
   ]
  },
  {
   "cell_type": "code",
   "execution_count": null,
   "id": "ec0cd795",
   "metadata": {
    "ExecuteTime": {
     "end_time": "2022-09-21T20:20:10.530393Z",
     "start_time": "2022-09-21T20:20:10.517241Z"
    }
   },
   "outputs": [],
   "source": [
    "pump_powers = np.linspace(pump_power[0][0],pump_power[-1][-1],power_range)\n",
    "pump_powers"
   ]
  },
  {
   "cell_type": "code",
   "execution_count": null,
   "id": "21844be2",
   "metadata": {
    "ExecuteTime": {
     "end_time": "2022-09-21T23:44:36.906596Z",
     "start_time": "2022-09-21T23:44:36.852307Z"
    }
   },
   "outputs": [],
   "source": [
    "SNRs = []\n",
    "max_signals = []\n",
    "noise_floors = []\n",
    "\n",
    "#for j, freq in enumerate(pump_freqs):\n",
    "#    for i, power in enumerate(pump_powers):\n",
    "        #snrs, max_signal, noise_floor = get_signal_stats(average_lin_signal)\n",
    "        #print(i,j)\n",
    "        \n",
    "for signal in average_lin_signal:\n",
    "    snrs, max_signal, noise_floor = get_signal_stats(signal,std_dev=2.5)\n",
    "    SNRs.append(snrs)\n",
    "    max_signals.append(max_signal)\n",
    "    noise_floors.append(noise_floor)\n",
    "\n",
    "SNRs = np.array(SNRs)\n",
    "max_signals = np.array(max_signals)\n",
    "noise_floors = np.array(noise_floors)"
   ]
  },
  {
   "cell_type": "code",
   "execution_count": null,
   "id": "efc83a90",
   "metadata": {
    "ExecuteTime": {
     "end_time": "2022-09-21T23:44:37.478933Z",
     "start_time": "2022-09-21T23:44:37.387323Z"
    },
    "cell_style": "split"
   },
   "outputs": [],
   "source": [
    "plt.plot(SNRs)"
   ]
  },
  {
   "cell_type": "code",
   "execution_count": null,
   "id": "4a642ac1",
   "metadata": {
    "ExecuteTime": {
     "end_time": "2022-09-21T23:44:37.956622Z",
     "start_time": "2022-09-21T23:44:37.866399Z"
    },
    "cell_style": "split"
   },
   "outputs": [],
   "source": [
    "plt.plot(noise_floors)"
   ]
  },
  {
   "cell_type": "code",
   "execution_count": null,
   "id": "6abe7f03",
   "metadata": {
    "ExecuteTime": {
     "end_time": "2022-09-21T23:44:38.322528Z",
     "start_time": "2022-09-21T23:44:38.252274Z"
    }
   },
   "outputs": [],
   "source": [
    "plt.plot(max_signals)"
   ]
  },
  {
   "cell_type": "code",
   "execution_count": null,
   "id": "1031af0a",
   "metadata": {
    "ExecuteTime": {
     "end_time": "2022-09-21T23:44:38.613170Z",
     "start_time": "2022-09-21T23:44:38.608802Z"
    }
   },
   "outputs": [],
   "source": [
    "SNRs_reshaped = np.reshape(SNRs, (power_range,freq_range))\n",
    "SNRs_reshaped.shape"
   ]
  },
  {
   "cell_type": "code",
   "execution_count": null,
   "id": "7a6f3625",
   "metadata": {
    "ExecuteTime": {
     "end_time": "2022-09-21T23:44:39.475208Z",
     "start_time": "2022-09-21T23:44:39.342008Z"
    },
    "cell_style": "split"
   },
   "outputs": [],
   "source": [
    "%matplotlib inline\n",
    "\n",
    "heatmap, ax = plt.subplots(figsize=(8,6))\n",
    "\n",
    "im = ax.imshow(SNRs_reshaped,cmap='inferno',extent=[pump_powers[0],pump_powers[-1],pump_freqs[0],pump_freqs[-1]],interpolation='nearest',origin='lower',aspect='auto')\n",
    "\n",
    "ax.set(xlabel='Pump Power (dBm)', ylabel='Pump Frequency (Hz)')\n",
    "cbar = heatmap.colorbar(im)\n",
    "cbar.ax.set_ylabel('SNR')"
   ]
  },
  {
   "cell_type": "code",
   "execution_count": null,
   "id": "4fa809d2",
   "metadata": {
    "ExecuteTime": {
     "end_time": "2022-09-21T23:44:39.918836Z",
     "start_time": "2022-09-21T23:44:39.702593Z"
    },
    "cell_style": "split"
   },
   "outputs": [],
   "source": [
    "from mpl_toolkits import mplot3d\n",
    "\n",
    "Y = pump_powers\n",
    "X = pump_freqs\n",
    "Z = SNRs_reshaped\n",
    "fig = plt.figure(figsize=(12,16))\n",
    "ax = plt.axes(projection='3d')\n",
    "ax.contour3D(X, Y, Z, 50, cmap='binary')\n",
    "ax.set_xlabel('Pump Frequency')\n",
    "ax.set_ylabel('Pump Power')\n",
    "ax.set_zlabel('SNR');"
   ]
  },
  {
   "cell_type": "code",
   "execution_count": null,
   "id": "cbb2659a",
   "metadata": {
    "ExecuteTime": {
     "end_time": "2022-09-21T23:44:41.053493Z",
     "start_time": "2022-09-21T23:44:40.973060Z"
    }
   },
   "outputs": [],
   "source": [
    "%matplotlib qt\n",
    "\n",
    "fig = plt.figure()\n",
    "ax = plt.axes(projection='3d')\n",
    "ax.contour3D(X, Y, Z, 50, cmap='binary')\n",
    "ax.set_xlabel('x')\n",
    "ax.set_ylabel('y')\n",
    "ax.set_zlabel('z');"
   ]
  },
  {
   "cell_type": "markdown",
   "id": "965a4768",
   "metadata": {},
   "source": [
    "# Extracting Regions of High SNR"
   ]
  },
  {
   "cell_type": "code",
   "execution_count": null,
   "id": "5309874e",
   "metadata": {
    "ExecuteTime": {
     "end_time": "2022-09-21T23:44:53.471070Z",
     "start_time": "2022-09-21T23:44:53.377801Z"
    }
   },
   "outputs": [],
   "source": [
    "%matplotlib inline\n",
    "\n",
    "plt.hist(SNRs,bins=50)\n",
    "plt.show()"
   ]
  },
  {
   "cell_type": "code",
   "execution_count": null,
   "id": "51650c75",
   "metadata": {
    "ExecuteTime": {
     "end_time": "2022-09-21T23:44:56.002042Z",
     "start_time": "2022-09-21T23:44:55.889380Z"
    }
   },
   "outputs": [],
   "source": [
    "new_arr = get_2d_array_N_std_greater_than_mean(SNRs, std_dev=-2)\n",
    "plt.hist(new_arr, bins=50)"
   ]
  },
  {
   "cell_type": "code",
   "execution_count": null,
   "id": "d2584e66",
   "metadata": {
    "ExecuteTime": {
     "end_time": "2022-09-21T23:44:58.665680Z",
     "start_time": "2022-09-21T23:44:58.650851Z"
    }
   },
   "outputs": [],
   "source": []
  },
  {
   "cell_type": "code",
   "execution_count": null,
   "id": "2b2bc587",
   "metadata": {
    "ExecuteTime": {
     "end_time": "2022-09-21T23:44:58.968479Z",
     "start_time": "2022-09-21T23:44:58.957539Z"
    }
   },
   "outputs": [],
   "source": [
    "get_config_for_high_SNR(SNRs_reshaped,x=pump_powers, y=pump_freqs,std_dev=1.75)"
   ]
  },
  {
   "cell_type": "markdown",
   "id": "11482593",
   "metadata": {},
   "source": [
    "<a id='averaging-and-high-snr-region'></a>\n",
    "\n",
    "### Averaging and High SNR Region Finding Code"
   ]
  },
  {
   "cell_type": "code",
   "execution_count": null,
   "id": "3536f3d2",
   "metadata": {
    "ExecuteTime": {
     "end_time": "2022-09-22T00:41:04.186758Z",
     "start_time": "2022-09-22T00:41:04.168950Z"
    },
    "code_folding": []
   },
   "outputs": [],
   "source": [
    "def get_2d_array_N_std_greater_than_mean(arr, std_dev=2):\n",
    "    mean = np.mean(arr)\n",
    "    standard_deviation = np.std(arr)\n",
    "    distance_from_mean = abs(arr - mean)\n",
    "    \n",
    "    min_deviations = std_dev\n",
    "    high_values = mean + min_deviations * standard_deviation    \n",
    "    new_array = np.where(arr < high_values, 0, arr)\n",
    "    return new_array\n",
    "\n",
    "def get_config_for_high_SNR(arr,x,y,std_dev=2):\n",
    "    mean = np.mean(arr)\n",
    "    standard_deviation = np.std(arr)\n",
    "    distance_from_mean = abs(arr - mean)\n",
    "    \n",
    "    min_deviations = std_dev\n",
    "    high_values = mean + min_deviations * standard_deviation\n",
    "    \n",
    "    mask = (arr > high_values)\n",
    "    indices = np.where(mask)\n",
    "    \n",
    "    snrs = arr[indices]\n",
    "    xvals = x[indices[0]]\n",
    "    yvals = y[indices[1]]\n",
    "    \n",
    "    return list(zip(xvals,yvals,snrs))\n",
    "\n",
    "def get_index_for_high_SNR(arr,x,y,std_dev=2):\n",
    "    mean = np.mean(arr)\n",
    "    standard_deviation = np.std(arr)\n",
    "    distance_from_mean = abs(arr - mean)\n",
    "    \n",
    "    min_deviations = std_dev\n",
    "    high_values = mean + min_deviations * standard_deviation\n",
    "    \n",
    "    mask = (arr > high_values)\n",
    "    indices = np.where(mask)\n",
    "\n",
    "    return indices\n",
    "\n",
    "\n",
    "def get_pump_power_and_frequency(pump_power,pump_freq,power_range,freq_range):\n",
    "    \"\"\"\n",
    "    inputs:\n",
    "        - pump_power from Labber\n",
    "        - pump_freq from Labber\n",
    "        - # of power points\n",
    "        - # of frequency points\n",
    "    returns:\n",
    "        - pump_power ,  pump_freq (all 1D arr)\n",
    "    \"\"\"\n",
    "    pump_freqs = np.linspace(pump_freq[0][0],pump_freq[-1][-1],freq_range)\n",
    "    pump_powers = np.linspace(pump_power[0][0],pump_power[-1][-1],power_range)\n",
    "    return pump_powers, pump_freqs\n",
    "\n",
    "def get_column_from_2d_array(arr, n=0):\n",
    "    \"\"\"\n",
    "    returns the nth column of the 2D array, arr\n",
    "    \"\"\"\n",
    "    return arr[:,n]\n",
    "\n",
    "def get_average_of_N_traces(signal, N):\n",
    "    \"\"\"\n",
    "    inputs:\n",
    "        - signal -> 2D array: from Labber Log File\n",
    "        - N -> int: number of time a trace was taken for each config\n",
    "    return:\n",
    "        - averaged signal -> reduced 2D array\n",
    "    \"\"\"\n",
    "    return signal.transpose().reshape(-1,N).mean(1).reshape(signal.shape[-1],-1).transpose()"
   ]
  },
  {
   "cell_type": "markdown",
   "id": "cd65cba4",
   "metadata": {},
   "source": []
  },
  {
   "cell_type": "markdown",
   "id": "774eaabc",
   "metadata": {},
   "source": []
  },
  {
   "cell_type": "code",
   "execution_count": null,
   "id": "5efc4ba2",
   "metadata": {},
   "outputs": [],
   "source": []
  },
  {
   "cell_type": "markdown",
   "id": "eb1929cd",
   "metadata": {},
   "source": [
    "# Test Code:"
   ]
  },
  {
   "cell_type": "markdown",
   "id": "c34868d2",
   "metadata": {},
   "source": [
    "## Helper Functions:"
   ]
  },
  {
   "cell_type": "code",
   "execution_count": 37,
   "id": "0a808aa5",
   "metadata": {
    "ExecuteTime": {
     "end_time": "2022-09-22T00:59:14.267923Z",
     "start_time": "2022-09-22T00:59:14.236694Z"
    }
   },
   "outputs": [],
   "source": [
    "def outliers_removed(arr, std_dev=2):\n",
    "    mean = np.mean(arr)\n",
    "    standard_deviation = np.std(arr)\n",
    "    distance_from_mean = abs(arr - mean)\n",
    "    max_deviations = std_dev\n",
    "    not_outlier = distance_from_mean < max_deviations * standard_deviation\n",
    "    no_outliers = arr[not_outlier]\n",
    "    return no_outliers\n",
    "\n",
    "def get_signal_stats(linsig,std_dev=2):\n",
    "    \"\"\"\n",
    "    inputs: (linsig:: array (SA Signal in Watts), std_dev:: int (cut off for outlier)\n",
    "    returns: [float, float, float] :: [snr, signal_max, average_noise_floor] (all in dBm)\n",
    "    \"\"\"\n",
    "    peaks, peak_prop = find_peaks(linsig)\n",
    "    all_data = linsig[peaks]\n",
    "    noise_data = outliers_removed(linsig[peaks],std_dev)\n",
    "    noise_floor = Watt2dBm(noise_data.mean())\n",
    "    max_signal = Watt2dBm(max(all_data))\n",
    "    snr = max_signal - noise_floor\n",
    "    return [snr, max_signal, noise_floor]\n",
    "    \n",
    "\n",
    "def get_SNR_space_plot(signal,repeated, freq_range, power_range, std_SNR=2.5, title=\"TWPA Tune Up\", xlabel='Pump Power (dBm)', ylabel='Pump Frequency (Hz)', zlabel='SNR', fig_type=\".png\", path=\"figures\"):\n",
    "    average_signal = get_average_of_N_traces(signal,repeated)\n",
    "    average_lin_signal = dBm2Watt(average_signal)\n",
    "    \n",
    "    pump_freqs = np.linspace(pump_freq[0][0],pump_freq[-1][-1],freq_range)\n",
    "    pump_powers = np.linspace(pump_power[0][0],pump_power[-1][-1],power_range)\n",
    "\n",
    "    SNRs, max_signals, noise_floors = calculate_SNRs(average_lin_signal,std_SNR)\n",
    "    \n",
    "    SNRs_reshaped = np.reshape(SNRs, (power_range,freq_range))\n",
    "    \n",
    "    create_heatmap(SNRs_reshaped, pump_powers, pump_freqs, title, xlabel, ylabel, zlabel,fig_type,path)\n",
    "    \n",
    "def get_high_SNR_regions(signal,repeated, freq_range, power_range, std_SNR=2.5, std_highSNR=1.75):\n",
    "    average_signal = get_average_of_N_traces(signal,repeated)\n",
    "    average_lin_signal = dBm2Watt(average_signal)\n",
    "    \n",
    "    pump_freqs = np.linspace(pump_freq[0][0],pump_freq[-1][-1],freq_range)\n",
    "    pump_powers = np.linspace(pump_power[0][0],pump_power[-1][-1],power_range)\n",
    "\n",
    "    SNRs, max_signals, noise_floors = calculate_SNRs(average_lin_signal,std_SNR)\n",
    "    SNRs_reshaped = np.reshape(SNRs, (power_range,freq_range))\n",
    "    \n",
    "    region = get_config_for_high_SNR(SNRs_reshaped,x=pump_powers, y=pump_freqs,std_dev=std_highSNR)\n",
    "\n",
    "    print(\"=\"*20+\"\\nHigh SNR Regions:\\n(power,frequency,SNR)\\n\\n\"+str(region)+\"\\n\"+\"=\"*20)\n",
    "    return region \n",
    "    \n",
    "    \n",
    "def calculate_SNRs(average_lin_signal,std_SNR):\n",
    "    SNRs = []\n",
    "    max_signals = []\n",
    "    noise_floors = []\n",
    "\n",
    "    for signal in average_lin_signal:\n",
    "        snrs, max_signal, noise_floor = get_signal_stats(signal,std_dev=std_SNR)\n",
    "        SNRs.append(snrs)\n",
    "        max_signals.append(max_signal)\n",
    "        noise_floors.append(noise_floor)\n",
    "\n",
    "    SNRs = np.array(SNRs)\n",
    "    max_signals = np.array(max_signals)\n",
    "    noise_floors = np.array(noise_floors)\n",
    "    \n",
    "    return SNRs, max_signals, noise_floors\n",
    "\n",
    "\n",
    "def figure_name_maker(title,fig_type=\".png\",path=\"figures\"):\n",
    "    abs_path = os.getcwd()+f\"/{path}/\"\n",
    "    try:\n",
    "        os.mkdir(abs_path)\n",
    "    except:\n",
    "        pass\n",
    "    now = datetime.now() # current date and time\n",
    "    title=title.replace(\" \", \"_\")\n",
    "    dt = now.strftime(\"_%m_%d_%Y_%H%M%S\")\n",
    "    name = abs_path + title + dt + fig_type \n",
    "    return name\n",
    "\n",
    "def create_heatmap(z, x, y, title=\"TWPA Tune Up\", xlabel='Pump Power (dBm)', ylabel='Pump Frequency (Hz)', zlabel='SNR',fig_type=\".png\",path=\"figures\"):\n",
    "    heatmap, ax = plt.subplots(figsize=(8,6))\n",
    "    \n",
    "    im = ax.imshow(z,cmap='inferno',extent=[x[0],x[-1],y[0],y[-1]],interpolation='nearest',origin='lower',aspect='auto')\n",
    "    \n",
    "    ax.set(xlabel=xlabel, ylabel=ylabel)\n",
    "    ax.set_title(title,fontsize=14)\n",
    "    cbar = heatmap.colorbar(im)\n",
    "    cbar.ax.set_ylabel(zlabel)\n",
    "    figname = figure_name_maker(title,fig_type,path)\n",
    "    plt.savefig(figname)\n",
    "    plt.show()\n",
    "    \n",
    "    \n",
    "def get_2d_array_N_std_greater_than_mean(arr, std_dev=2):\n",
    "    mean = np.mean(arr)\n",
    "    standard_deviation = np.std(arr)\n",
    "    distance_from_mean = abs(arr - mean)\n",
    "    \n",
    "    min_deviations = std_dev\n",
    "    high_values = mean + min_deviations * standard_deviation    \n",
    "    new_array = np.where(arr < high_values, 0, arr)\n",
    "    return new_array\n",
    "\n",
    "def get_config_for_high_SNR(arr,x,y,std_dev=2):\n",
    "    mean = np.mean(arr)\n",
    "    standard_deviation = np.std(arr)\n",
    "    distance_from_mean = abs(arr - mean)\n",
    "    \n",
    "    min_deviations = std_dev\n",
    "    high_values = mean + min_deviations * standard_deviation\n",
    "    \n",
    "    mask = (arr > high_values)\n",
    "    indices = np.where(mask)\n",
    "    \n",
    "    snrs = arr[indices]\n",
    "    xvals = x[indices[0]]\n",
    "    yvals = y[indices[1]]\n",
    "    \n",
    "    return list(zip(xvals,yvals,snrs))\n",
    "\n",
    "def get_index_for_high_SNR(arr,x,y,std_dev=2):\n",
    "    mean = np.mean(arr)\n",
    "    standard_deviation = np.std(arr)\n",
    "    distance_from_mean = abs(arr - mean)\n",
    "    \n",
    "    min_deviations = std_dev\n",
    "    high_values = mean + min_deviations * standard_deviation\n",
    "    \n",
    "    mask = (arr > high_values)\n",
    "    indices = np.where(mask)\n",
    "\n",
    "    return indices\n",
    "\n",
    "\n",
    "def get_pump_power_and_frequency(pump_power,pump_freq,power_range,freq_range):\n",
    "    \"\"\"\n",
    "    inputs:\n",
    "        - pump_power from Labber\n",
    "        - pump_freq from Labber\n",
    "        - # of power points\n",
    "        - # of frequency points\n",
    "    returns:\n",
    "        - pump_power ,  pump_freq (all 1D arr)\n",
    "    \"\"\"\n",
    "    pump_freqs = np.linspace(pump_freq[0][0],pump_freq[-1][-1],freq_range)\n",
    "    pump_powers = np.linspace(pump_power[0][0],pump_power[-1][-1],power_range)\n",
    "    return pump_powers, pump_freqs\n",
    "\n",
    "def get_column_from_2d_array(arr, n=0):\n",
    "    \"\"\"\n",
    "    returns the nth column of the 2D array, arr\n",
    "    \"\"\"\n",
    "    return arr[:,n]\n",
    "\n",
    "def get_average_of_N_traces(signal, N):\n",
    "    \"\"\"\n",
    "    inputs:\n",
    "        - signal -> 2D array: from Labber Log File\n",
    "        - N -> int: number of time a trace was taken for each config\n",
    "    return:\n",
    "        - averaged signal -> reduced 2D array\n",
    "    \"\"\"\n",
    "    return signal.transpose().reshape(-1,N).mean(1).reshape(signal.shape[-1],-1).transpose()"
   ]
  },
  {
   "cell_type": "code",
   "execution_count": 20,
   "id": "1e3e719c",
   "metadata": {
    "ExecuteTime": {
     "end_time": "2022-09-22T00:45:27.377815Z",
     "start_time": "2022-09-22T00:45:27.368377Z"
    }
   },
   "outputs": [],
   "source": [
    "import Labber\n",
    "import numpy as np\n",
    "import matplotlib.pyplot as plt\n",
    "import os\n",
    "from mpl_toolkits.mplot3d import Axes3D\n",
    "from matplotlib import cm\n",
    "import matplotlib\n",
    "\n",
    "from datetime import datetime\n",
    "from scipy.signal import find_peaks, peak_prominences, peak_widths\n",
    "from fitTools.utilities import Watt2dBm, dBm2Watt, VNA2dBm"
   ]
  },
  {
   "cell_type": "code",
   "execution_count": 4,
   "id": "abc1fdc6",
   "metadata": {
    "ExecuteTime": {
     "end_time": "2022-09-22T00:42:23.174032Z",
     "start_time": "2022-09-22T00:42:23.048875Z"
    }
   },
   "outputs": [],
   "source": [
    "TWPA0919 = \"data/TWPA_Tune_Up_91923.hdf5\"\n",
    "lf = Labber.LogFile(TWPA0919)\n",
    "\n",
    "SA_channel_name = 'HP Spectrum Analyzer - Signal'\n",
    "signal = lf.getData(name = SA_channel_name)\n",
    "\n",
    "linsig = dBm2Watt(signal)\n",
    "\n",
    "SAxdata, SAydata = lf.getTraceXY(y_channel=SA_channel_name) # gives last trace from SA"
   ]
  },
  {
   "cell_type": "code",
   "execution_count": 29,
   "id": "e7b3a97b",
   "metadata": {
    "ExecuteTime": {
     "end_time": "2022-09-22T00:53:06.682914Z",
     "start_time": "2022-09-22T00:53:06.661123Z"
    }
   },
   "outputs": [],
   "source": [
    "repeated = 4\n",
    "power_range = 10\n",
    "freq_range = 76\n",
    "\n",
    "power_channel_name = \"10002F25 - Power\"\n",
    "freq_channel_name = \"10002F25 - Frequency\"\n",
    "\n",
    "pump_power = lf.getData(name = power_channel_name)\n",
    "pump_freq = lf.getData(name = freq_channel_name)"
   ]
  },
  {
   "cell_type": "code",
   "execution_count": 27,
   "id": "6759e5e3",
   "metadata": {
    "ExecuteTime": {
     "end_time": "2022-09-22T00:48:15.937837Z",
     "start_time": "2022-09-22T00:48:15.730891Z"
    }
   },
   "outputs": [
    {
     "data": {
      "image/png": "[encoded data removed]",
      "text/plain": [
       "<Figure size 576x432 with 2 Axes>"
      ]
     },
     "metadata": {
      "needs_background": "light"
     },
     "output_type": "display_data"
    }
   ],
   "source": [
    "plt.rcParams['savefig.facecolor']='white'\n",
    "\n",
    "\n",
    "get_SNR_space_plot(signal,repeated, freq_range, power_range, std_SNR=2.5, title=\"TWPA Tune Up\", xlabel='Pump Power (dBm)', ylabel='Pump Frequency (Hz)', zlabel='SNR', fig_type=\".png\", path=\"figures\")"
   ]
  },
  {
   "cell_type": "code",
   "execution_count": 38,
   "id": "0b56eb02",
   "metadata": {
    "ExecuteTime": {
     "end_time": "2022-09-22T00:59:16.431273Z",
     "start_time": "2022-09-22T00:59:16.370586Z"
    }
   },
   "outputs": [
    {
     "name": "stdout",
     "output_type": "stream",
     "text": [
      "====================\n",
      "High SNR Regions:\n",
      "(power,frequency,SNR)\n",
      "\n",
      "[(0.0, 7860000000.0, 16.549866637199727), (0.0, 8320000000.0, 16.608943619218152), (1.0, 7560000000.0, 16.641488971014375), (6.0, 7160000000.0, 17.754057714765636), (6.0, 7560000000.0, 16.967961710624067), (6.0, 8360000000.0, 18.825572252895668), (7.0, 7260000000.0, 16.661992804837475), (7.0, 7280000000.0, 18.86492166172537), (7.0, 7720000000.0, 17.103504653621265)]\n",
      "====================\n"
     ]
    },
    {
     "data": {
      "text/plain": [
       "[(0.0, 7860000000.0, 16.549866637199727),\n",
       " (0.0, 8320000000.0, 16.608943619218152),\n",
       " (1.0, 7560000000.0, 16.641488971014375),\n",
       " (6.0, 7160000000.0, 17.754057714765636),\n",
       " (6.0, 7560000000.0, 16.967961710624067),\n",
       " (6.0, 8360000000.0, 18.825572252895668),\n",
       " (7.0, 7260000000.0, 16.661992804837475),\n",
       " (7.0, 7280000000.0, 18.86492166172537),\n",
       " (7.0, 7720000000.0, 17.103504653621265)]"
      ]
     },
     "execution_count": 38,
     "metadata": {},
     "output_type": "execute_result"
    }
   ],
   "source": [
    "get_high_SNR_regions(signal,repeated, freq_range, power_range, std_SNR=2.5, std_highSNR=1.75)"
   ]
  },
  {
   "cell_type": "code",
   "execution_count": null,
   "id": "257f178a",
   "metadata": {},
   "outputs": [],
   "source": []
  }
 ],
 "metadata": {
  "hide_input": false,
  "kernelspec": {
   "display_name": "Python 3 (ipykernel)",
   "language": "python",
   "name": "python3"
  },
  "language_info": {
   "codemirror_mode": {
    "name": "ipython",
    "version": 3
   },
   "file_extension": ".py",
   "mimetype": "text/x-python",
   "name": "python",
   "nbconvert_exporter": "python",
   "pygments_lexer": "ipython3",
   "version": "3.9.12"
  },
  "latex_envs": {
   "LaTeX_envs_menu_present": true,
   "autoclose": false,
   "autocomplete": true,
   "bibliofile": "biblio.bib",
   "cite_by": "apalike",
   "current_citInitial": 1,
   "eqLabelWithNumbers": true,
   "eqNumInitial": 1,
   "hotkeys": {
    "equation": "Ctrl-E",
    "itemize": "Ctrl-I"
   },
   "labels_anchors": false,
   "latex_user_defs": false,
   "report_style_numbering": false,
   "user_envs_cfg": false
  },
  "toc": {
   "base_numbering": 1,
   "nav_menu": {},
   "number_sections": true,
   "sideBar": true,
   "skip_h1_title": false,
   "title_cell": "Table of Contents",
   "title_sidebar": "Contents",
   "toc_cell": false,
   "toc_position": {
    "height": "calc(100% - 180px)",
    "left": "10px",
    "top": "150px",
    "width": "274.908px"
   },
   "toc_section_display": true,
   "toc_window_display": true
  },
  "varInspector": {
   "cols": {
    "lenName": 16,
    "lenType": 16,
    "lenVar": 40
   },
   "kernels_config": {
    "python": {
     "delete_cmd_postfix": "",
     "delete_cmd_prefix": "del ",
     "library": "var_list.py",
     "varRefreshCmd": "print(var_dic_list())"
    },
    "r": {
     "delete_cmd_postfix": ") ",
     "delete_cmd_prefix": "rm(",
     "library": "var_list.r",
     "varRefreshCmd": "cat(var_dic_list()) "
    }
   },
   "types_to_exclude": [
    "module",
    "function",
    "builtin_function_or_method",
    "instance",
    "_Feature"
   ],
   "window_display": false
  }
 },
 "nbformat": 4,
 "nbformat_minor": 5
}
